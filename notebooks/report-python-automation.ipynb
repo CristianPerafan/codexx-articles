{
 "cells": [
  {
   "cell_type": "markdown",
   "id": "de09d37d",
   "metadata": {},
   "source": [
    "# **Automatización de Generación de Reporte de Ventas**\n",
    "\n",
    "Librerías utilizadas:"
   ]
  },
  {
   "cell_type": "code",
   "execution_count": 24,
   "id": "initial_id",
   "metadata": {
    "collapsed": true
   },
   "outputs": [],
   "source": [
    "import pandas as pd # Procesamiento de datos\n",
    "from matplotlib import pyplot as plt # Generación de gráficos\n",
    "from reportlab.pdfgen import canvas # Generación de PDF"
   ]
  },
  {
   "cell_type": "markdown",
   "metadata": {},
   "source": [
    "Importamos el archivo de ventas:"
   ]
  },
  {
   "cell_type": "code",
   "execution_count": 25,
   "id": "16565e9b",
   "metadata": {},
   "outputs": [
    {
     "data": {
      "text/html": [
       "<div>\n",
       "<style scoped>\n",
       "    .dataframe tbody tr th:only-of-type {\n",
       "        vertical-align: middle;\n",
       "    }\n",
       "\n",
       "    .dataframe tbody tr th {\n",
       "        vertical-align: top;\n",
       "    }\n",
       "\n",
       "    .dataframe thead th {\n",
       "        text-align: right;\n",
       "    }\n",
       "</style>\n",
       "<table border=\"1\" class=\"dataframe\">\n",
       "  <thead>\n",
       "    <tr style=\"text-align: right;\">\n",
       "      <th></th>\n",
       "      <th>fecha</th>\n",
       "      <th>producto</th>\n",
       "      <th>precio</th>\n",
       "      <th>cantidad</th>\n",
       "      <th>vendedor</th>\n",
       "    </tr>\n",
       "  </thead>\n",
       "  <tbody>\n",
       "    <tr>\n",
       "      <th>0</th>\n",
       "      <td>2023-01-01</td>\n",
       "      <td>Manzanas</td>\n",
       "      <td>1.20</td>\n",
       "      <td>10</td>\n",
       "      <td>Carlos</td>\n",
       "    </tr>\n",
       "    <tr>\n",
       "      <th>1</th>\n",
       "      <td>2023-01-02</td>\n",
       "      <td>Plátanos</td>\n",
       "      <td>0.50</td>\n",
       "      <td>15</td>\n",
       "      <td>María</td>\n",
       "    </tr>\n",
       "    <tr>\n",
       "      <th>2</th>\n",
       "      <td>2023-01-03</td>\n",
       "      <td>Naranjas</td>\n",
       "      <td>0.80</td>\n",
       "      <td>8</td>\n",
       "      <td>Carlos</td>\n",
       "    </tr>\n",
       "    <tr>\n",
       "      <th>3</th>\n",
       "      <td>2023-01-04</td>\n",
       "      <td>Manzanas</td>\n",
       "      <td>1.20</td>\n",
       "      <td>5</td>\n",
       "      <td>Juan</td>\n",
       "    </tr>\n",
       "    <tr>\n",
       "      <th>4</th>\n",
       "      <td>2023-01-05</td>\n",
       "      <td>Naranjas</td>\n",
       "      <td>0.80</td>\n",
       "      <td>12</td>\n",
       "      <td>Carlos</td>\n",
       "    </tr>\n",
       "    <tr>\n",
       "      <th>5</th>\n",
       "      <td>2023-01-06</td>\n",
       "      <td>Fresas</td>\n",
       "      <td>3.00</td>\n",
       "      <td>7</td>\n",
       "      <td>Carlos</td>\n",
       "    </tr>\n",
       "    <tr>\n",
       "      <th>6</th>\n",
       "      <td>2023-01-07</td>\n",
       "      <td>Mangos</td>\n",
       "      <td>1.75</td>\n",
       "      <td>9</td>\n",
       "      <td>Lucía</td>\n",
       "    </tr>\n",
       "    <tr>\n",
       "      <th>7</th>\n",
       "      <td>2023-01-08</td>\n",
       "      <td>Manzanas</td>\n",
       "      <td>1.20</td>\n",
       "      <td>6</td>\n",
       "      <td>Carlos</td>\n",
       "    </tr>\n",
       "    <tr>\n",
       "      <th>8</th>\n",
       "      <td>2023-01-09</td>\n",
       "      <td>Sandía</td>\n",
       "      <td>0.60</td>\n",
       "      <td>20</td>\n",
       "      <td>Pedro</td>\n",
       "    </tr>\n",
       "    <tr>\n",
       "      <th>9</th>\n",
       "      <td>2023-01-10</td>\n",
       "      <td>Melón</td>\n",
       "      <td>1.00</td>\n",
       "      <td>14</td>\n",
       "      <td>Carlos</td>\n",
       "    </tr>\n",
       "  </tbody>\n",
       "</table>\n",
       "</div>"
      ],
      "text/plain": [
       "        fecha  producto  precio  cantidad vendedor\n",
       "0  2023-01-01  Manzanas    1.20        10   Carlos\n",
       "1  2023-01-02  Plátanos    0.50        15    María\n",
       "2  2023-01-03  Naranjas    0.80         8   Carlos\n",
       "3  2023-01-04  Manzanas    1.20         5     Juan\n",
       "4  2023-01-05  Naranjas    0.80        12   Carlos\n",
       "5  2023-01-06    Fresas    3.00         7   Carlos\n",
       "6  2023-01-07    Mangos    1.75         9    Lucía\n",
       "7  2023-01-08  Manzanas    1.20         6   Carlos\n",
       "8  2023-01-09    Sandía    0.60        20    Pedro\n",
       "9  2023-01-10     Melón    1.00        14   Carlos"
      ]
     },
     "execution_count": 25,
     "metadata": {},
     "output_type": "execute_result"
    }
   ],
   "source": [
    "# Cargamos los datos y creamos un DataFrame\n",
    "df = pd.read_csv('./data/ventas.csv')\n",
    "df"
   ]
  },
  {
   "cell_type": "markdown",
   "id": "2491ed0c",
   "metadata": {},
   "source": [
    "Generamos algunas estadísticas importantes para el reporte:"
   ]
  },
  {
   "cell_type": "code",
   "execution_count": 27,
   "id": "0bb35677",
   "metadata": {},
   "outputs": [],
   "source": [
    "# Calculamos el total de ingresos\n",
    "df['ingresos'] = df['precio'] * df['cantidad']\n",
    "total_ingresos = df['ingresos'].sum()\n",
    "\n",
    "# Obtener el mejor vendedor\n",
    "mejor_vendedor = df.groupby('vendedor')['ingresos'].sum().idxmax()"
   ]
  },
  {
   "cell_type": "markdown",
   "id": "5d027bc9",
   "metadata": {},
   "source": [
    "Creamos un gráfico de pastel para visualizar las ventas por producto:"
   ]
  },
  {
   "cell_type": "code",
   "execution_count": 40,
   "id": "9828e4cd",
   "metadata": {},
   "outputs": [
    {
     "data": {
      "image/png": "[encoded data removed]",
      "text/plain": [
       "<Figure size 640x480 with 1 Axes>"
      ]
     },
     "metadata": {},
     "output_type": "display_data"
    }
   ],
   "source": [
    "df.groupby('producto')['cantidad'].sum().plot(kind='pie', autopct='%1.1f%%')\n",
    "plt.title('Cantidad de productos vendidos')\n",
    "plt.savefig('./media/cantidad_productos_vendidos.png')"
   ]
  },
  {
   "cell_type": "markdown",
   "id": "3f45ba92",
   "metadata": {},
   "source": [
    "Generamos un archivo de reporte en formato PDF:"
   ]
  },
  {
   "cell_type": "code",
   "execution_count": 48,
   "id": "02991836",
   "metadata": {},
   "outputs": [],
   "source": [
    "from reportlab.lib.pagesizes import letter\n",
    "from reportlab.platypus import SimpleDocTemplate, Paragraph, Image\n",
    "from reportlab.lib.styles import getSampleStyleSheet\n",
    "\n",
    "doc = SimpleDocTemplate('./media/informe.pdf', pagesize=letter)\n",
    "styles = getSampleStyleSheet()\n",
    "elements = [\n",
    "    Paragraph(\"Informe de Ventas\", styles[\"Title\"]),\n",
    "    Paragraph(f\"<b>Total de ingresos:</b> {total_ingresos}\", styles[\"BodyText\"]),\n",
    "    Paragraph(f\"<b>Mejor vendedor:</b> {mejor_vendedor}\", styles[\"BodyText\"]),\n",
    "    Image('./media/cantidad_productos_vendidos.png', width=400, height=400, hAlign='CENTER'),\n",
    "    Paragraph(\"Informe generado automáticamente con Python.\", styles[\"Italic\"])\n",
    "]\n",
    "\n",
    "doc.build(elements)\n"
   ]
  }
 ],
 "metadata": {
  "kernelspec": {
   "display_name": "base",
   "language": "python",
   "name": "python3"
  },
  "language_info": {
   "codemirror_mode": {
    "name": "ipython",
    "version": 3
   },
   "file_extension": ".py",
   "mimetype": "text/x-python",
   "name": "python",
   "nbconvert_exporter": "python",
   "pygments_lexer": "ipython3",
   "version": "undefined.undefined.undefined"
  }
 },
 "nbformat": 4,
 "nbformat_minor": 5
}
